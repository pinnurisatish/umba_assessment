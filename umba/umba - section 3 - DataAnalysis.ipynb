{
 "cells": [
  {
   "cell_type": "markdown",
   "metadata": {},
   "source": [
    "# Problem Statement\n",
    "### Given a dataset weekly_logins.csv! The goal is to find the categories or groups in the dataset that had high engagement (weekly logins) levels! "
   ]
  },
  {
   "cell_type": "code",
   "execution_count": 74,
   "metadata": {},
   "outputs": [],
   "source": [
    "#import required libraries\n",
    "#analysis and manipulation libraries\n",
    "import numpy as np\n",
    "import pandas as pd\n",
    "\n",
    "#visualizations\n",
    "import matplotlib.pyplot as plt \n",
    "import seaborn as sns\n",
    "%matplotlib inline"
   ]
  },
  {
   "cell_type": "code",
   "execution_count": 21,
   "metadata": {},
   "outputs": [
    {
     "data": {
      "text/html": [
       "<div>\n",
       "<style scoped>\n",
       "    .dataframe tbody tr th:only-of-type {\n",
       "        vertical-align: middle;\n",
       "    }\n",
       "\n",
       "    .dataframe tbody tr th {\n",
       "        vertical-align: top;\n",
       "    }\n",
       "\n",
       "    .dataframe thead th {\n",
       "        text-align: right;\n",
       "    }\n",
       "</style>\n",
       "<table border=\"1\" class=\"dataframe\">\n",
       "  <thead>\n",
       "    <tr style=\"text-align: right;\">\n",
       "      <th></th>\n",
       "      <th>User Name</th>\n",
       "      <th>Slack Integration</th>\n",
       "      <th>Most Used Page</th>\n",
       "      <th>Had Free Trial</th>\n",
       "      <th>User MRR</th>\n",
       "      <th>Weekly Logins</th>\n",
       "      <th>Company Name</th>\n",
       "      <th>Industry</th>\n",
       "      <th>Company Size</th>\n",
       "      <th>Territory</th>\n",
       "      <th>Sales Call in Trial</th>\n",
       "      <th>Zendesk Integration</th>\n",
       "      <th>Salesforce Integration</th>\n",
       "      <th>Gmail Integration</th>\n",
       "      <th>Most common referrer</th>\n",
       "      <th>Most common IP</th>\n",
       "      <th>Sales Touches to Close</th>\n",
       "      <th>Used Admin Panel</th>\n",
       "      <th>Has Issued Support Request</th>\n",
       "    </tr>\n",
       "  </thead>\n",
       "  <tbody>\n",
       "    <tr>\n",
       "      <th>0</th>\n",
       "      <td>Nilsa Harmon</td>\n",
       "      <td>No</td>\n",
       "      <td>/home</td>\n",
       "      <td>No</td>\n",
       "      <td>39</td>\n",
       "      <td>2</td>\n",
       "      <td>HP</td>\n",
       "      <td>Technology</td>\n",
       "      <td>&gt;$10B</td>\n",
       "      <td>West</td>\n",
       "      <td>No</td>\n",
       "      <td>Yes</td>\n",
       "      <td>No</td>\n",
       "      <td>Yes</td>\n",
       "      <td>hotels.com</td>\n",
       "      <td>165.227.215.62</td>\n",
       "      <td>5</td>\n",
       "      <td>No</td>\n",
       "      <td>No</td>\n",
       "    </tr>\n",
       "    <tr>\n",
       "      <th>1</th>\n",
       "      <td>Joni Catano</td>\n",
       "      <td>No</td>\n",
       "      <td>/tool/storyboard</td>\n",
       "      <td>No</td>\n",
       "      <td>39</td>\n",
       "      <td>6</td>\n",
       "      <td>HP</td>\n",
       "      <td>Technology</td>\n",
       "      <td>&gt;$10B</td>\n",
       "      <td>West</td>\n",
       "      <td>No</td>\n",
       "      <td>Yes</td>\n",
       "      <td>Yes</td>\n",
       "      <td>No</td>\n",
       "      <td>hotels.com</td>\n",
       "      <td>159.203.166.41</td>\n",
       "      <td>16</td>\n",
       "      <td>No</td>\n",
       "      <td>Yes</td>\n",
       "    </tr>\n",
       "    <tr>\n",
       "      <th>2</th>\n",
       "      <td>Emmett Jeffries</td>\n",
       "      <td>Yes</td>\n",
       "      <td>/tool/search</td>\n",
       "      <td>Yes</td>\n",
       "      <td>169</td>\n",
       "      <td>3</td>\n",
       "      <td>HP</td>\n",
       "      <td>Technology</td>\n",
       "      <td>&gt;$10B</td>\n",
       "      <td>West</td>\n",
       "      <td>Yes</td>\n",
       "      <td>No</td>\n",
       "      <td>Yes</td>\n",
       "      <td>No</td>\n",
       "      <td>hotels.com</td>\n",
       "      <td>159.203.166.41</td>\n",
       "      <td>4</td>\n",
       "      <td>No</td>\n",
       "      <td>Yes</td>\n",
       "    </tr>\n",
       "    <tr>\n",
       "      <th>3</th>\n",
       "      <td>Dian Boisse</td>\n",
       "      <td>No</td>\n",
       "      <td>/tool/storyboard</td>\n",
       "      <td>No</td>\n",
       "      <td>39</td>\n",
       "      <td>2</td>\n",
       "      <td>HP</td>\n",
       "      <td>Technology</td>\n",
       "      <td>&gt;$10B</td>\n",
       "      <td>West</td>\n",
       "      <td>No</td>\n",
       "      <td>Yes</td>\n",
       "      <td>No</td>\n",
       "      <td>No</td>\n",
       "      <td>zoom.com</td>\n",
       "      <td>162.243.108.129</td>\n",
       "      <td>15</td>\n",
       "      <td>No</td>\n",
       "      <td>Yes</td>\n",
       "    </tr>\n",
       "    <tr>\n",
       "      <th>4</th>\n",
       "      <td>Barbara Herrera</td>\n",
       "      <td>No</td>\n",
       "      <td>/tool/storyboard</td>\n",
       "      <td>No</td>\n",
       "      <td>1299</td>\n",
       "      <td>7</td>\n",
       "      <td>HP</td>\n",
       "      <td>Technology</td>\n",
       "      <td>&gt;$10B</td>\n",
       "      <td>West</td>\n",
       "      <td>No</td>\n",
       "      <td>No</td>\n",
       "      <td>Yes</td>\n",
       "      <td>No</td>\n",
       "      <td>/mail.google.com</td>\n",
       "      <td>159.203.166.41</td>\n",
       "      <td>5</td>\n",
       "      <td>No</td>\n",
       "      <td>Yes</td>\n",
       "    </tr>\n",
       "  </tbody>\n",
       "</table>\n",
       "</div>"
      ],
      "text/plain": [
       "         User Name Slack Integration    Most Used Page Had Free Trial  \\\n",
       "0     Nilsa Harmon                No             /home             No   \n",
       "1      Joni Catano                No  /tool/storyboard             No   \n",
       "2  Emmett Jeffries               Yes      /tool/search            Yes   \n",
       "3      Dian Boisse                No  /tool/storyboard             No   \n",
       "4  Barbara Herrera                No  /tool/storyboard             No   \n",
       "\n",
       "   User MRR  Weekly Logins Company Name    Industry Company Size Territory  \\\n",
       "0        39              2           HP  Technology        >$10B      West   \n",
       "1        39              6           HP  Technology        >$10B      West   \n",
       "2       169              3           HP  Technology        >$10B      West   \n",
       "3        39              2           HP  Technology        >$10B      West   \n",
       "4      1299              7           HP  Technology        >$10B      West   \n",
       "\n",
       "  Sales Call in Trial Zendesk Integration Salesforce Integration  \\\n",
       "0                  No                 Yes                     No   \n",
       "1                  No                 Yes                    Yes   \n",
       "2                 Yes                  No                    Yes   \n",
       "3                  No                 Yes                     No   \n",
       "4                  No                  No                    Yes   \n",
       "\n",
       "  Gmail Integration Most common referrer   Most common IP  \\\n",
       "0               Yes           hotels.com   165.227.215.62   \n",
       "1                No           hotels.com   159.203.166.41   \n",
       "2                No           hotels.com   159.203.166.41   \n",
       "3                No             zoom.com  162.243.108.129   \n",
       "4                No     /mail.google.com   159.203.166.41   \n",
       "\n",
       "   Sales Touches to Close Used Admin Panel Has Issued Support Request  \n",
       "0                       5               No                         No  \n",
       "1                      16               No                        Yes  \n",
       "2                       4               No                        Yes  \n",
       "3                      15               No                        Yes  \n",
       "4                       5               No                        Yes  "
      ]
     },
     "execution_count": 21,
     "metadata": {},
     "output_type": "execute_result"
    }
   ],
   "source": [
    "#read csv\n",
    "df = pd.read_csv('weekly_logins.csv')\n",
    "df.head() #display first five rows"
   ]
  },
  {
   "cell_type": "markdown",
   "metadata": {},
   "source": [
    "# Data Exploration"
   ]
  },
  {
   "cell_type": "code",
   "execution_count": 23,
   "metadata": {},
   "outputs": [
    {
     "name": "stdout",
     "output_type": "stream",
     "text": [
      "<class 'pandas.core.frame.DataFrame'>\n",
      "RangeIndex: 1718 entries, 0 to 1717\n",
      "Data columns (total 19 columns):\n",
      " #   Column                      Non-Null Count  Dtype \n",
      "---  ------                      --------------  ----- \n",
      " 0   User Name                   1718 non-null   object\n",
      " 1   Slack Integration           1718 non-null   object\n",
      " 2   Most Used Page              1718 non-null   object\n",
      " 3   Had Free Trial              1718 non-null   object\n",
      " 4   User MRR                    1718 non-null   int64 \n",
      " 5   Weekly Logins               1718 non-null   int64 \n",
      " 6   Company Name                1718 non-null   object\n",
      " 7   Industry                    1718 non-null   object\n",
      " 8   Company Size                1718 non-null   object\n",
      " 9   Territory                   1718 non-null   object\n",
      " 10  Sales Call in Trial         1718 non-null   object\n",
      " 11  Zendesk Integration         1718 non-null   object\n",
      " 12  Salesforce Integration      1718 non-null   object\n",
      " 13  Gmail Integration           1718 non-null   object\n",
      " 14  Most common referrer        1718 non-null   object\n",
      " 15  Most common IP              1718 non-null   object\n",
      " 16  Sales Touches to Close      1718 non-null   int64 \n",
      " 17  Used Admin Panel            1718 non-null   object\n",
      " 18  Has Issued Support Request  1718 non-null   object\n",
      "dtypes: int64(3), object(16)\n",
      "memory usage: 255.1+ KB\n"
     ]
    }
   ],
   "source": [
    "df.info() #gives basic information about the dataset"
   ]
  },
  {
   "cell_type": "code",
   "execution_count": 24,
   "metadata": {},
   "outputs": [
    {
     "data": {
      "text/html": [
       "<div>\n",
       "<style scoped>\n",
       "    .dataframe tbody tr th:only-of-type {\n",
       "        vertical-align: middle;\n",
       "    }\n",
       "\n",
       "    .dataframe tbody tr th {\n",
       "        vertical-align: top;\n",
       "    }\n",
       "\n",
       "    .dataframe thead th {\n",
       "        text-align: right;\n",
       "    }\n",
       "</style>\n",
       "<table border=\"1\" class=\"dataframe\">\n",
       "  <thead>\n",
       "    <tr style=\"text-align: right;\">\n",
       "      <th></th>\n",
       "      <th>User MRR</th>\n",
       "      <th>Weekly Logins</th>\n",
       "      <th>Sales Touches to Close</th>\n",
       "    </tr>\n",
       "  </thead>\n",
       "  <tbody>\n",
       "    <tr>\n",
       "      <th>count</th>\n",
       "      <td>1718.000000</td>\n",
       "      <td>1718.000000</td>\n",
       "      <td>1718.000000</td>\n",
       "    </tr>\n",
       "    <tr>\n",
       "      <th>mean</th>\n",
       "      <td>212.364377</td>\n",
       "      <td>6.065774</td>\n",
       "      <td>9.929569</td>\n",
       "    </tr>\n",
       "    <tr>\n",
       "      <th>std</th>\n",
       "      <td>367.568435</td>\n",
       "      <td>3.847528</td>\n",
       "      <td>3.705564</td>\n",
       "    </tr>\n",
       "    <tr>\n",
       "      <th>min</th>\n",
       "      <td>39.000000</td>\n",
       "      <td>0.000000</td>\n",
       "      <td>4.000000</td>\n",
       "    </tr>\n",
       "    <tr>\n",
       "      <th>25%</th>\n",
       "      <td>39.000000</td>\n",
       "      <td>3.000000</td>\n",
       "      <td>7.000000</td>\n",
       "    </tr>\n",
       "    <tr>\n",
       "      <th>50%</th>\n",
       "      <td>39.000000</td>\n",
       "      <td>5.000000</td>\n",
       "      <td>10.000000</td>\n",
       "    </tr>\n",
       "    <tr>\n",
       "      <th>75%</th>\n",
       "      <td>169.000000</td>\n",
       "      <td>8.000000</td>\n",
       "      <td>13.000000</td>\n",
       "    </tr>\n",
       "    <tr>\n",
       "      <th>max</th>\n",
       "      <td>1299.000000</td>\n",
       "      <td>17.000000</td>\n",
       "      <td>16.000000</td>\n",
       "    </tr>\n",
       "  </tbody>\n",
       "</table>\n",
       "</div>"
      ],
      "text/plain": [
       "          User MRR  Weekly Logins  Sales Touches to Close\n",
       "count  1718.000000    1718.000000             1718.000000\n",
       "mean    212.364377       6.065774                9.929569\n",
       "std     367.568435       3.847528                3.705564\n",
       "min      39.000000       0.000000                4.000000\n",
       "25%      39.000000       3.000000                7.000000\n",
       "50%      39.000000       5.000000               10.000000\n",
       "75%     169.000000       8.000000               13.000000\n",
       "max    1299.000000      17.000000               16.000000"
      ]
     },
     "execution_count": 24,
     "metadata": {},
     "output_type": "execute_result"
    }
   ],
   "source": [
    "df.describe() #gives statistical information about numerical variables"
   ]
  },
  {
   "cell_type": "code",
   "execution_count": 25,
   "metadata": {},
   "outputs": [
    {
     "data": {
      "text/plain": [
       "User Name                     0\n",
       "Slack Integration             0\n",
       "Most Used Page                0\n",
       "Had Free Trial                0\n",
       "User MRR                      0\n",
       "Weekly Logins                 0\n",
       "Company Name                  0\n",
       "Industry                      0\n",
       "Company Size                  0\n",
       "Territory                     0\n",
       "Sales Call in Trial           0\n",
       "Zendesk Integration           0\n",
       "Salesforce Integration        0\n",
       "Gmail Integration             0\n",
       "Most common referrer          0\n",
       "Most common IP                0\n",
       "Sales Touches to Close        0\n",
       "Used Admin Panel              0\n",
       "Has Issued Support Request    0\n",
       "dtype: int64"
      ]
     },
     "execution_count": 25,
     "metadata": {},
     "output_type": "execute_result"
    }
   ],
   "source": [
    "df.isnull().sum() #check null values"
   ]
  },
  {
   "cell_type": "code",
   "execution_count": 26,
   "metadata": {},
   "outputs": [
    {
     "data": {
      "text/plain": [
       "User Name                     1716\n",
       "Slack Integration                2\n",
       "Most Used Page                   6\n",
       "Had Free Trial                   2\n",
       "User MRR                         3\n",
       "Weekly Logins                   18\n",
       "Company Name                    23\n",
       "Industry                         8\n",
       "Company Size                     5\n",
       "Territory                        3\n",
       "Sales Call in Trial              2\n",
       "Zendesk Integration              2\n",
       "Salesforce Integration           2\n",
       "Gmail Integration                2\n",
       "Most common referrer             8\n",
       "Most common IP                  20\n",
       "Sales Touches to Close          13\n",
       "Used Admin Panel                 2\n",
       "Has Issued Support Request       2\n",
       "dtype: int64"
      ]
     },
     "execution_count": 26,
     "metadata": {},
     "output_type": "execute_result"
    }
   ],
   "source": [
    "df.nunique() #returns count of unique value in each column of the dataset"
   ]
  },
  {
   "cell_type": "code",
   "execution_count": 30,
   "metadata": {},
   "outputs": [
    {
     "data": {
      "text/plain": [
       "<matplotlib.axes._subplots.AxesSubplot at 0x2b6e0970448>"
      ]
     },
     "execution_count": 30,
     "metadata": {},
     "output_type": "execute_result"
    },
    {
     "data": {
      "image/png": "[encoded data removed]",
      "text/plain": [
       "<Figure size 864x504 with 2 Axes>"
      ]
     },
     "metadata": {
      "needs_background": "light"
     },
     "output_type": "display_data"
    }
   ],
   "source": [
    "#heatmap - Check correlation between the numerical variables\n",
    "plt.figure(figsize=(12, 7))\n",
    "sns.heatmap(df.corr(), annot = True) "
   ]
  },
  {
   "cell_type": "markdown",
   "metadata": {},
   "source": [
    "### Here, from heatmap we can observe there is no correlation between Weekly logins and User MRR (-0.015). \n",
    "### Similarly, no correlation between Sales Touches to Close and Weekly Logins (0.035)!! \n",
    "### Hence, no much impact!!"
   ]
  },
  {
   "cell_type": "markdown",
   "metadata": {},
   "source": [
    "# Correlation between Categorical variables and Weekly Logins"
   ]
  },
  {
   "cell_type": "code",
   "execution_count": 41,
   "metadata": {},
   "outputs": [
    {
     "data": {
      "text/plain": [
       "Company Name\n",
       "One Legal                        8.000000\n",
       "Whitesell Corporation            6.733333\n",
       "Worldsource Wealth Management    6.532847\n",
       "Huron Consulting Group           6.523810\n",
       "US Soccer Federation             6.518797\n",
       "Veritext                         6.500000\n",
       "InVision                         6.352941\n",
       "Zendesk                          6.337500\n",
       "SpaceX                           6.336957\n",
       "Siemon                           6.305085\n",
       "Yahoo! Inc.                      6.242424\n",
       "Lush                             6.153846\n",
       "Lucky Brand                      6.136986\n",
       "Twilio                           6.086957\n",
       "HP                               5.985507\n",
       "LiveRamp                         5.985507\n",
       "TaxSlayer, LLC                   5.970000\n",
       "Hushmail                         5.915663\n",
       "Uniform Law Commission           5.684932\n",
       "Wal-Mart Stores                  5.671642\n",
       "Visa                             5.375000\n",
       "Stupp Bros                       5.330000\n",
       "Zoom Video Communications        4.877551\n",
       "Name: Weekly Logins, dtype: float64"
      ]
     },
     "execution_count": 41,
     "metadata": {},
     "output_type": "execute_result"
    }
   ],
   "source": [
    "#checking weekly logins of users group by their company\n",
    "df.groupby('Company Name')['Weekly Logins'].mean().sort_values(ascending=False) "
   ]
  },
  {
   "cell_type": "code",
   "execution_count": 96,
   "metadata": {},
   "outputs": [
    {
     "data": {
      "text/html": [
       "<div>\n",
       "<style scoped>\n",
       "    .dataframe tbody tr th:only-of-type {\n",
       "        vertical-align: middle;\n",
       "    }\n",
       "\n",
       "    .dataframe tbody tr th {\n",
       "        vertical-align: top;\n",
       "    }\n",
       "\n",
       "    .dataframe thead th {\n",
       "        text-align: right;\n",
       "    }\n",
       "</style>\n",
       "<table border=\"1\" class=\"dataframe\">\n",
       "  <thead>\n",
       "    <tr style=\"text-align: right;\">\n",
       "      <th></th>\n",
       "      <th>Company Name</th>\n",
       "      <th>Weekly Logins</th>\n",
       "    </tr>\n",
       "  </thead>\n",
       "  <tbody>\n",
       "    <tr>\n",
       "      <th>0</th>\n",
       "      <td>One Legal</td>\n",
       "      <td>8.000000</td>\n",
       "    </tr>\n",
       "    <tr>\n",
       "      <th>1</th>\n",
       "      <td>Whitesell Corporation</td>\n",
       "      <td>6.733333</td>\n",
       "    </tr>\n",
       "    <tr>\n",
       "      <th>2</th>\n",
       "      <td>Worldsource Wealth Management</td>\n",
       "      <td>6.532847</td>\n",
       "    </tr>\n",
       "    <tr>\n",
       "      <th>3</th>\n",
       "      <td>Huron Consulting Group</td>\n",
       "      <td>6.523810</td>\n",
       "    </tr>\n",
       "    <tr>\n",
       "      <th>4</th>\n",
       "      <td>US Soccer Federation</td>\n",
       "      <td>6.518797</td>\n",
       "    </tr>\n",
       "    <tr>\n",
       "      <th>5</th>\n",
       "      <td>Veritext</td>\n",
       "      <td>6.500000</td>\n",
       "    </tr>\n",
       "    <tr>\n",
       "      <th>6</th>\n",
       "      <td>InVision</td>\n",
       "      <td>6.352941</td>\n",
       "    </tr>\n",
       "    <tr>\n",
       "      <th>7</th>\n",
       "      <td>Zendesk</td>\n",
       "      <td>6.337500</td>\n",
       "    </tr>\n",
       "    <tr>\n",
       "      <th>8</th>\n",
       "      <td>SpaceX</td>\n",
       "      <td>6.336957</td>\n",
       "    </tr>\n",
       "    <tr>\n",
       "      <th>9</th>\n",
       "      <td>Siemon</td>\n",
       "      <td>6.305085</td>\n",
       "    </tr>\n",
       "    <tr>\n",
       "      <th>10</th>\n",
       "      <td>Yahoo! Inc.</td>\n",
       "      <td>6.242424</td>\n",
       "    </tr>\n",
       "    <tr>\n",
       "      <th>11</th>\n",
       "      <td>Lush</td>\n",
       "      <td>6.153846</td>\n",
       "    </tr>\n",
       "    <tr>\n",
       "      <th>12</th>\n",
       "      <td>Lucky Brand</td>\n",
       "      <td>6.136986</td>\n",
       "    </tr>\n",
       "    <tr>\n",
       "      <th>13</th>\n",
       "      <td>Twilio</td>\n",
       "      <td>6.086957</td>\n",
       "    </tr>\n",
       "    <tr>\n",
       "      <th>14</th>\n",
       "      <td>HP</td>\n",
       "      <td>5.985507</td>\n",
       "    </tr>\n",
       "    <tr>\n",
       "      <th>15</th>\n",
       "      <td>LiveRamp</td>\n",
       "      <td>5.985507</td>\n",
       "    </tr>\n",
       "    <tr>\n",
       "      <th>16</th>\n",
       "      <td>TaxSlayer, LLC</td>\n",
       "      <td>5.970000</td>\n",
       "    </tr>\n",
       "    <tr>\n",
       "      <th>17</th>\n",
       "      <td>Hushmail</td>\n",
       "      <td>5.915663</td>\n",
       "    </tr>\n",
       "    <tr>\n",
       "      <th>18</th>\n",
       "      <td>Uniform Law Commission</td>\n",
       "      <td>5.684932</td>\n",
       "    </tr>\n",
       "    <tr>\n",
       "      <th>19</th>\n",
       "      <td>Wal-Mart Stores</td>\n",
       "      <td>5.671642</td>\n",
       "    </tr>\n",
       "    <tr>\n",
       "      <th>20</th>\n",
       "      <td>Visa</td>\n",
       "      <td>5.375000</td>\n",
       "    </tr>\n",
       "    <tr>\n",
       "      <th>21</th>\n",
       "      <td>Stupp Bros</td>\n",
       "      <td>5.330000</td>\n",
       "    </tr>\n",
       "    <tr>\n",
       "      <th>22</th>\n",
       "      <td>Zoom Video Communications</td>\n",
       "      <td>4.877551</td>\n",
       "    </tr>\n",
       "  </tbody>\n",
       "</table>\n",
       "</div>"
      ],
      "text/plain": [
       "                     Company Name  Weekly Logins\n",
       "0                       One Legal       8.000000\n",
       "1           Whitesell Corporation       6.733333\n",
       "2   Worldsource Wealth Management       6.532847\n",
       "3          Huron Consulting Group       6.523810\n",
       "4            US Soccer Federation       6.518797\n",
       "5                        Veritext       6.500000\n",
       "6                        InVision       6.352941\n",
       "7                         Zendesk       6.337500\n",
       "8                          SpaceX       6.336957\n",
       "9                          Siemon       6.305085\n",
       "10                    Yahoo! Inc.       6.242424\n",
       "11                           Lush       6.153846\n",
       "12                    Lucky Brand       6.136986\n",
       "13                         Twilio       6.086957\n",
       "14                             HP       5.985507\n",
       "15                       LiveRamp       5.985507\n",
       "16                 TaxSlayer, LLC       5.970000\n",
       "17                       Hushmail       5.915663\n",
       "18         Uniform Law Commission       5.684932\n",
       "19                Wal-Mart Stores       5.671642\n",
       "20                           Visa       5.375000\n",
       "21                     Stupp Bros       5.330000\n",
       "22      Zoom Video Communications       4.877551"
      ]
     },
     "execution_count": 96,
     "metadata": {},
     "output_type": "execute_result"
    }
   ],
   "source": [
    "dat = df.groupby('Company Name')['Weekly Logins'].mean().sort_values(ascending=False).reset_index()\n",
    "dat"
   ]
  },
  {
   "cell_type": "code",
   "execution_count": 94,
   "metadata": {},
   "outputs": [
    {
     "data": {
      "text/plain": [
       "<BarContainer object of 23 artists>"
      ]
     },
     "execution_count": 94,
     "metadata": {},
     "output_type": "execute_result"
    },
    {
     "data": {
      "image/png": "[encoded data removed]",
      "text/plain": [
       "<Figure size 1440x504 with 1 Axes>"
      ]
     },
     "metadata": {
      "needs_background": "light"
     },
     "output_type": "display_data"
    }
   ],
   "source": [
    "fig = plt.figure(figsize = (20,7)) #setting plot size\n",
    "plt.bar(range(len(dat)), dat['Weekly Logins']) #plotting a bargraph for company data weekly logins     "
   ]
  },
  {
   "cell_type": "markdown",
   "metadata": {},
   "source": [
    "### From the above analysis we can see \"One Legal\" company users have highest average weekly logins(8) followed by \"whiteshell corporation\", \"worldsource management\" ..."
   ]
  },
  {
   "cell_type": "code",
   "execution_count": 40,
   "metadata": {},
   "outputs": [
    {
     "data": {
      "text/plain": [
       "Industry\n",
       "Finance                  6.532847\n",
       "Professional Services    6.523810\n",
       "Hospitality              6.517007\n",
       "Legal Services           6.275510\n",
       "Consumer Products        6.141414\n",
       "Technology               5.936313\n",
       "Manufacturing            5.914163\n",
       "Other                    5.671642\n",
       "Name: Weekly Logins, dtype: float64"
      ]
     },
     "execution_count": 40,
     "metadata": {},
     "output_type": "execute_result"
    }
   ],
   "source": [
    "#checking weekly logins of users group by their Industry\n",
    "df.groupby('Industry')['Weekly Logins'].mean().sort_values(ascending=False)"
   ]
  },
  {
   "cell_type": "markdown",
   "metadata": {},
   "source": [
    "### Finace, Professional services and Hospitality industries are top in average logins followed by Legal services, consumer products"
   ]
  },
  {
   "cell_type": "code",
   "execution_count": 42,
   "metadata": {},
   "outputs": [
    {
     "data": {
      "text/plain": [
       "Slack Integration\n",
       "Yes    9.953125\n",
       "No     4.694488\n",
       "Name: Weekly Logins, dtype: float64"
      ]
     },
     "execution_count": 42,
     "metadata": {},
     "output_type": "execute_result"
    }
   ],
   "source": [
    "#checking weekly logins of users group by Slack Integration feature\n",
    "df.groupby('Slack Integration')['Weekly Logins'].mean().sort_values(ascending=False)"
   ]
  },
  {
   "cell_type": "code",
   "execution_count": 82,
   "metadata": {},
   "outputs": [
    {
     "data": {
      "image/png": "[encoded data removed]",
      "text/plain": [
       "<Figure size 432x288 with 1 Axes>"
      ]
     },
     "metadata": {
      "needs_background": "light"
     },
     "output_type": "display_data"
    }
   ],
   "source": [
    "#representing slack integration vs weekly logins on a bar graph\n",
    "dat = df.groupby('Slack Integration')['Weekly Logins'].mean().sort_values(ascending=False).reset_index()\n",
    "fig = plt.figure(figsize = (6,4))\n",
    "plt.bar(range(len(dat)), dat['Weekly Logins'])\n",
    "plt.xticks(range(len(dat)), dat['Slack Integration'] )\n",
    "plt.xlabel('Slack Integration')\n",
    "plt.ylabel('Weekly Logins');"
   ]
  },
  {
   "cell_type": "markdown",
   "metadata": {},
   "source": [
    "### Users having slack integration tend to have more logins compare to no slack integration users! So, slack integration matters !!"
   ]
  },
  {
   "cell_type": "code",
   "execution_count": 43,
   "metadata": {},
   "outputs": [
    {
     "data": {
      "text/plain": [
       "Most Used Page\n",
       "/tool/storyboard     6.542264\n",
       "/tool/search         4.432836\n",
       "/dashboard           4.180328\n",
       "/tool/build_query    4.080645\n",
       "/home                3.661765\n",
       "/login               3.656250\n",
       "Name: Weekly Logins, dtype: float64"
      ]
     },
     "execution_count": 43,
     "metadata": {},
     "output_type": "execute_result"
    }
   ],
   "source": [
    "#check which page has been mostly used by the weekly login users!\n",
    "df.groupby('Most Used Page')['Weekly Logins'].mean().sort_values(ascending=False)"
   ]
  },
  {
   "cell_type": "markdown",
   "metadata": {},
   "source": [
    "### Users with more average logins are using \"/tool/storyboard \" page followed by \"/tool/search\" and \"/dashboard\"! Storyboard page is the most used page!! So, make sure storyboard page should be glitch free!!"
   ]
  },
  {
   "cell_type": "code",
   "execution_count": 44,
   "metadata": {},
   "outputs": [
    {
     "data": {
      "text/plain": [
       "Had Free Trial\n",
       "Yes    10.006504\n",
       "No      3.868540\n",
       "Name: Weekly Logins, dtype: float64"
      ]
     },
     "execution_count": 44,
     "metadata": {},
     "output_type": "execute_result"
    }
   ],
   "source": [
    "#check whether free trial had impact on weekly logins!\n",
    "df.groupby('Had Free Trial')['Weekly Logins'].mean().sort_values(ascending=False)"
   ]
  },
  {
   "cell_type": "code",
   "execution_count": 95,
   "metadata": {},
   "outputs": [
    {
     "data": {
      "image/png": "[encoded data removed]",
      "text/plain": [
       "<Figure size 432x288 with 1 Axes>"
      ]
     },
     "metadata": {
      "needs_background": "light"
     },
     "output_type": "display_data"
    }
   ],
   "source": [
    "#barplot representation for the Had free trial vs weekly logins\n",
    "dat = df.groupby('Had Free Trial')['Weekly Logins'].mean().sort_values(ascending=False).reset_index()\n",
    "fig = plt.figure(figsize = (6,4))\n",
    "plt.bar(range(len(dat)), dat['Weekly Logins'])\n",
    "plt.xticks(range(len(dat)), dat['Had Free Trial'] )\n",
    "plt.xlabel('Had Free Trial')\n",
    "plt.ylabel('Weekly Logins');"
   ]
  },
  {
   "cell_type": "markdown",
   "metadata": {},
   "source": [
    "### Having Free trials has positive impact on weekly logins. Users with free trail have more average logins compare to users who doesn't have! Hence, free trial plays an important role!"
   ]
  },
  {
   "cell_type": "code",
   "execution_count": 45,
   "metadata": {},
   "outputs": [
    {
     "data": {
      "text/plain": [
       "Company Size\n",
       "$500M - $1B      6.401639\n",
       "<$100M           6.308333\n",
       "$1B - $10B       6.297468\n",
       "$100M - $500M    6.023810\n",
       ">$10B            5.596429\n",
       "Name: Weekly Logins, dtype: float64"
      ]
     },
     "execution_count": 45,
     "metadata": {},
     "output_type": "execute_result"
    }
   ],
   "source": [
    "#check company size has impact on weekly logins\n",
    "df.groupby('Company Size')['Weekly Logins'].mean().sort_values(ascending=False)"
   ]
  },
  {
   "cell_type": "markdown",
   "metadata": {},
   "source": [
    "### Company Size has no relation with weekly logins!! Here, company size with 500 Million dollars - 1 Billion dollars has highest avg logins and company size with greater then 10Billion dollars has least avg weekly logins!! \n",
    "### That clearly means there is no specific relation between these two variables."
   ]
  },
  {
   "cell_type": "code",
   "execution_count": 46,
   "metadata": {},
   "outputs": [
    {
     "data": {
      "text/plain": [
       "Territory\n",
       "East       6.430446\n",
       "Midwest    6.021154\n",
       "West       5.924113\n",
       "Name: Weekly Logins, dtype: float64"
      ]
     },
     "execution_count": 46,
     "metadata": {},
     "output_type": "execute_result"
    }
   ],
   "source": [
    "#check territory has impact on weekly logins\n",
    "df.groupby('Territory')['Weekly Logins'].mean().sort_values(ascending=False)"
   ]
  },
  {
   "cell_type": "markdown",
   "metadata": {},
   "source": [
    "### There is no substantial difference in Weekly Logins among Territories. However, companies on east has highest avg weekly logins followed by midwest and west!!"
   ]
  },
  {
   "cell_type": "code",
   "execution_count": 47,
   "metadata": {},
   "outputs": [
    {
     "data": {
      "text/plain": [
       "Sales Call in Trial\n",
       "Yes    6.188341\n",
       "No     5.987607\n",
       "Name: Weekly Logins, dtype: float64"
      ]
     },
     "execution_count": 47,
     "metadata": {},
     "output_type": "execute_result"
    }
   ],
   "source": [
    "#check sales call in trial has impact on weekly logins\n",
    "df.groupby('Sales Call in Trial')['Weekly Logins'].mean().sort_values(ascending=False)"
   ]
  },
  {
   "cell_type": "markdown",
   "metadata": {},
   "source": [
    "### Sales call in Trial has negligible impact on Avg weekly logins"
   ]
  },
  {
   "cell_type": "code",
   "execution_count": 97,
   "metadata": {},
   "outputs": [
    {
     "data": {
      "text/plain": [
       "Zendesk Integration\n",
       "Yes    6.157438\n",
       "No     5.959849\n",
       "Name: Weekly Logins, dtype: float64"
      ]
     },
     "execution_count": 97,
     "metadata": {},
     "output_type": "execute_result"
    }
   ],
   "source": [
    "#check whether zendesk integration is helping to improve weekly logins\n",
    "df.groupby('Zendesk Integration')['Weekly Logins'].mean().sort_values(ascending=False)"
   ]
  },
  {
   "cell_type": "markdown",
   "metadata": {},
   "source": [
    "### Having Zendesk integration has negligible impact on avg weekly logins"
   ]
  },
  {
   "cell_type": "code",
   "execution_count": 52,
   "metadata": {},
   "outputs": [
    {
     "data": {
      "text/plain": [
       "Salesforce Integration\n",
       "Yes    6.130435\n",
       "No     6.019900\n",
       "Name: Weekly Logins, dtype: float64"
      ]
     },
     "execution_count": 52,
     "metadata": {},
     "output_type": "execute_result"
    }
   ],
   "source": [
    "#check salesforce integration has impact on weekly logins\n",
    "df.groupby('Salesforce Integration')['Weekly Logins'].mean().sort_values(ascending=False)"
   ]
  },
  {
   "cell_type": "markdown",
   "metadata": {},
   "source": [
    "### Having Salesforce integration has negligible impact on avg weekly logins"
   ]
  },
  {
   "cell_type": "code",
   "execution_count": 53,
   "metadata": {},
   "outputs": [
    {
     "data": {
      "text/plain": [
       "Gmail Integration\n",
       "No     6.167526\n",
       "Yes    5.981953\n",
       "Name: Weekly Logins, dtype: float64"
      ]
     },
     "execution_count": 53,
     "metadata": {},
     "output_type": "execute_result"
    }
   ],
   "source": [
    "#check gmail integration has impact on weekly logins\n",
    "df.groupby('Gmail Integration')['Weekly Logins'].mean().sort_values(ascending=False)"
   ]
  },
  {
   "cell_type": "markdown",
   "metadata": {},
   "source": [
    "### Having Gmail integration has negligible impact on avg weekly logins"
   ]
  },
  {
   "cell_type": "code",
   "execution_count": 54,
   "metadata": {},
   "outputs": [
    {
     "data": {
      "text/plain": [
       "Most common referrer\n",
       "/mail.google.com    6.342342\n",
       "/google.com         6.325581\n",
       "hotels.com          6.146226\n",
       "/slack.com          6.113122\n",
       "/tripadvisor.com    5.976636\n",
       "/facebook.com       5.966981\n",
       "/quora              5.844037\n",
       "zoom.com            5.789216\n",
       "Name: Weekly Logins, dtype: float64"
      ]
     },
     "execution_count": 54,
     "metadata": {},
     "output_type": "execute_result"
    }
   ],
   "source": [
    "#check which referrer has more impact on weekly logins\n",
    "df.groupby('Most common referrer')['Weekly Logins'].mean().sort_values(ascending=False)"
   ]
  },
  {
   "cell_type": "markdown",
   "metadata": {},
   "source": [
    "### The refferrer's has not much impact on the weekly logins! Most of the traffic is from gmail.com followed by organic search users (google.com) then we have referrals like hotels.com, slack.com.."
   ]
  },
  {
   "cell_type": "code",
   "execution_count": 55,
   "metadata": {},
   "outputs": [
    {
     "data": {
      "text/plain": [
       "Used Admin Panel\n",
       "Yes    6.074278\n",
       "No     6.059536\n",
       "Name: Weekly Logins, dtype: float64"
      ]
     },
     "execution_count": 55,
     "metadata": {},
     "output_type": "execute_result"
    }
   ],
   "source": [
    "#check if users used admin panel has impact on weekly logins\n",
    "df.groupby('Used Admin Panel')['Weekly Logins'].mean().sort_values(ascending=False)"
   ]
  },
  {
   "cell_type": "markdown",
   "metadata": {},
   "source": [
    "### Users used admin panel have no impact on avg weekly logins!"
   ]
  },
  {
   "cell_type": "code",
   "execution_count": 56,
   "metadata": {
    "scrolled": true
   },
   "outputs": [
    {
     "data": {
      "text/plain": [
       "Has Issued Support Request\n",
       "Yes    6.183673\n",
       "No     5.926302\n",
       "Name: Weekly Logins, dtype: float64"
      ]
     },
     "execution_count": 56,
     "metadata": {},
     "output_type": "execute_result"
    }
   ],
   "source": [
    "#check id user has issued support request has impact on weekly logins\n",
    "df.groupby('Has Issued Support Request')['Weekly Logins'].mean().sort_values(ascending=False)"
   ]
  },
  {
   "cell_type": "markdown",
   "metadata": {},
   "source": [
    "### Users who has issued support request has negligible impact on avg weekly logins!"
   ]
  },
  {
   "cell_type": "markdown",
   "metadata": {},
   "source": [
    "# Conclusion"
   ]
  },
  {
   "cell_type": "markdown",
   "metadata": {},
   "source": [
    "## To Summarize, \n",
    "\n",
    "### 1. Considering the analysis, the varibales like 'Slack Integration', 'Had Free Trial' have very  much positive impact on the average weekly logins!\n",
    "\n",
    "### 2. Considering the traffic, most of the users come from 'gmail.com' and 'organic search'(google.com)! Try not to minimize the cost on paid referrals!\n",
    "\n",
    "### 3. Varibles like 'Gmail Integration', 'Salesforce Integration', 'Zendesk Integration', has very negligible impact on weekly logins. Company can run asusual without integrating these softwares! Company has got chance to save some money!\n",
    "\n",
    "### 4. The most used page by the users is '/tool/storyboard'. Make sure we always have this page up and running glitch free. Try to implement any important features in other pages to attract the traffic.\n",
    "\n",
    "### 5. Companies on the east coast have little higher logins than midwest and west! Should come up with a strategy to improve weekly login in midwest and west coast territories!\n",
    "\n",
    "### 6. 'One Legal' company has highest average weekly logins!\n",
    "\n",
    "### 7. 'Company Size', 'User MRR', 'Sales Touch to Close' has no impact on the average weekly logins!\n",
    "\n"
   ]
  }
 ],
 "metadata": {
  "kernelspec": {
   "display_name": "Python 3",
   "language": "python",
   "name": "python3"
  },
  "language_info": {
   "codemirror_mode": {
    "name": "ipython",
    "version": 3
   },
   "file_extension": ".py",
   "mimetype": "text/x-python",
   "name": "python",
   "nbconvert_exporter": "python",
   "pygments_lexer": "ipython3",
   "version": "3.7.6"
  }
 },
 "nbformat": 4,
 "nbformat_minor": 4
}
